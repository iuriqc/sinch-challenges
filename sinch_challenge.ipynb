{
  "cells": [
    {
      "cell_type": "code",
      "source": [],
      "metadata": {
        "id": "7OHKE7IBgQCn"
      },
      "id": "7OHKE7IBgQCn",
      "execution_count": 107,
      "outputs": []
    },
    {
      "cell_type": "markdown",
      "source": [
        "# **Sinch Challenge**\n",
        "\n",
        "### The challenge consists of analyzing and extracting information from a database originating from a chatbot and providing information that answers business questions.\n",
        "\n",
        "### That said, let's evaluate what we can extract from this data"
      ],
      "metadata": {
        "id": "sCZhY1XngShj"
      },
      "id": "sCZhY1XngShj"
    },
    {
      "cell_type": "code",
      "source": [
        "# Installing required packages\n",
        "!pip install pyspark boto3"
      ],
      "metadata": {
        "colab": {
          "base_uri": "https://localhost:8080/"
        },
        "id": "7kZCAZrqcjb_",
        "outputId": "648a59e0-62ee-446f-fd13-2e889c88f5a0"
      },
      "id": "7kZCAZrqcjb_",
      "execution_count": 61,
      "outputs": [
        {
          "output_type": "stream",
          "name": "stdout",
          "text": [
            "Looking in indexes: https://pypi.org/simple, https://us-python.pkg.dev/colab-wheels/public/simple/\n",
            "Requirement already satisfied: pyspark in /usr/local/lib/python3.8/dist-packages (3.3.1)\n",
            "Requirement already satisfied: boto3 in /usr/local/lib/python3.8/dist-packages (1.26.67)\n",
            "Requirement already satisfied: py4j==0.10.9.5 in /usr/local/lib/python3.8/dist-packages (from pyspark) (0.10.9.5)\n",
            "Requirement already satisfied: jmespath<2.0.0,>=0.7.1 in /usr/local/lib/python3.8/dist-packages (from boto3) (1.0.1)\n",
            "Requirement already satisfied: s3transfer<0.7.0,>=0.6.0 in /usr/local/lib/python3.8/dist-packages (from boto3) (0.6.0)\n",
            "Requirement already satisfied: botocore<1.30.0,>=1.29.67 in /usr/local/lib/python3.8/dist-packages (from boto3) (1.29.67)\n",
            "Requirement already satisfied: urllib3<1.27,>=1.25.4 in /usr/local/lib/python3.8/dist-packages (from botocore<1.30.0,>=1.29.67->boto3) (1.26.14)\n",
            "Requirement already satisfied: python-dateutil<3.0.0,>=2.1 in /usr/local/lib/python3.8/dist-packages (from botocore<1.30.0,>=1.29.67->boto3) (2.8.2)\n",
            "Requirement already satisfied: six>=1.5 in /usr/local/lib/python3.8/dist-packages (from python-dateutil<3.0.0,>=2.1->botocore<1.30.0,>=1.29.67->boto3) (1.15.0)\n"
          ]
        }
      ]
    },
    {
      "cell_type": "code",
      "execution_count": 62,
      "id": "981765cc",
      "metadata": {
        "id": "981765cc"
      },
      "outputs": [],
      "source": [
        "# Importing just what will be used\n",
        "import os.path\n",
        "import time\n",
        "from datetime import timedelta\n",
        "\n",
        "from pyspark.sql import SparkSession\n",
        "import pyspark.sql.functions as f\n",
        "from pyspark.ml.feature import Bucketizer\n",
        "from pyspark.sql.types import StringType\n",
        "\n",
        "import boto3, botocore\n",
        "from botocore import UNSIGNED\n",
        "from botocore.config import Config"
      ]
    },
    {
      "cell_type": "code",
      "execution_count": 63,
      "id": "d4ccec6e",
      "metadata": {
        "id": "d4ccec6e"
      },
      "outputs": [],
      "source": [
        "# Initializing processing time\n",
        "START_TIME = time.monotonic()"
      ]
    },
    {
      "cell_type": "code",
      "execution_count": 64,
      "id": "c17ba26e",
      "metadata": {
        "id": "c17ba26e"
      },
      "outputs": [],
      "source": [
        "# Defining variables\n",
        "BUCKET = 'public-sinch-latam-case-data'\n",
        "PATH = 'data-engineering/data.csv'\n",
        "FILE = 'data.csv'"
      ]
    },
    {
      "cell_type": "code",
      "execution_count": 65,
      "id": "4cb8f61a",
      "metadata": {
        "id": "4cb8f61a"
      },
      "outputs": [],
      "source": [
        "# Connecting to S3\n",
        "s3 = boto3.resource('s3', config=Config(signature_version=UNSIGNED))"
      ]
    },
    {
      "cell_type": "code",
      "execution_count": 66,
      "id": "e50bb753",
      "metadata": {
        "colab": {
          "base_uri": "https://localhost:8080/"
        },
        "id": "e50bb753",
        "outputId": "5709aca8-1b7c-4603-b3eb-389e2fc31ecb"
      },
      "outputs": [
        {
          "output_type": "stream",
          "name": "stdout",
          "text": [
            "File already exists.\n"
          ]
        }
      ],
      "source": [
        "# Check if the file already exists and download it if not\n",
        "if not os.path.isfile(FILE):\n",
        "    try:\n",
        "        s3.Bucket(BUCKET).download_file(PATH, FILE)\n",
        "    except botocore.exceptions.ClientError as e: \n",
        "        if e.response['Error']['Code'] == \"404\":\n",
        "            print(\"The object does not exist.\")\n",
        "        else:\n",
        "            raise\n",
        "else:\n",
        "    print(\"File already exists.\")"
      ]
    },
    {
      "cell_type": "code",
      "execution_count": 67,
      "id": "90c3f10c",
      "metadata": {
        "id": "90c3f10c"
      },
      "outputs": [],
      "source": [
        "# Initializng the spark session\n",
        "spark = SparkSession.builder.appName(\"sinch_app\").getOrCreate()"
      ]
    },
    {
      "cell_type": "code",
      "execution_count": 68,
      "id": "0da8db49",
      "metadata": {
        "id": "0da8db49"
      },
      "outputs": [],
      "source": [
        "# Create a DataFrame from provided file\n",
        "df = spark.read.option(\"delimiter\", \";\").option(\"header\", \"true\").option(\"encoding\", \"UTF-8\").csv(FILE)"
      ]
    },
    {
      "cell_type": "code",
      "execution_count": 69,
      "id": "2b249f71",
      "metadata": {
        "colab": {
          "base_uri": "https://localhost:8080/"
        },
        "id": "2b249f71",
        "outputId": "def1d4c5-4090-4a11-b681-8295df33cebd"
      },
      "outputs": [
        {
          "output_type": "stream",
          "name": "stdout",
          "text": [
            "-RECORD 0----------------------------------------------\n",
            " timestamp      | 1614567604.0                         \n",
            " messageId      | 210c2f5f-f7b2-4061-82bb-2b33b7200e4f \n",
            " conversationId | 40b54398-77db-4810-b707-969bda09490b \n",
            " userId         | bf6a4d079b51b73fddc73a8e0fdd1dd3     \n",
            " messageText    | começar                              \n",
            " channel        | whatsapp                             \n",
            " botId          | 1567                                 \n",
            " source         | user                                 \n",
            "only showing top 1 row\n",
            "\n"
          ]
        }
      ],
      "source": [
        "df.show(1, truncate=False, vertical=True)"
      ]
    },
    {
      "cell_type": "code",
      "execution_count": 70,
      "id": "4678ffaa",
      "metadata": {
        "colab": {
          "base_uri": "https://localhost:8080/"
        },
        "id": "4678ffaa",
        "outputId": "54fc7615-f31b-4a59-f3cc-21f5992deeff"
      },
      "outputs": [
        {
          "output_type": "execute_result",
          "data": {
            "text/plain": [
              "516642"
            ]
          },
          "metadata": {},
          "execution_count": 70
        }
      ],
      "source": [
        "df.count()"
      ]
    },
    {
      "cell_type": "code",
      "execution_count": 71,
      "id": "529ad331",
      "metadata": {
        "id": "529ad331"
      },
      "outputs": [],
      "source": [
        "# Changing the data from unix formate to timestamp\n",
        "df = df.withColumn('timestamp', f.from_unixtime(f.col(\"timestamp\"),\"yyyy-MM-dd HH:mm:ss\"))"
      ]
    },
    {
      "cell_type": "code",
      "execution_count": 72,
      "id": "e1023127",
      "metadata": {
        "colab": {
          "base_uri": "https://localhost:8080/"
        },
        "id": "e1023127",
        "outputId": "e9d5913b-50a9-4dec-f919-a5d9a715b139"
      },
      "outputs": [
        {
          "output_type": "stream",
          "name": "stdout",
          "text": [
            "-RECORD 0----------------------------------------------\n",
            " timestamp      | 2021-03-01 03:00:04                  \n",
            " messageId      | 210c2f5f-f7b2-4061-82bb-2b33b7200e4f \n",
            " conversationId | 40b54398-77db-4810-b707-969bda09490b \n",
            " userId         | bf6a4d079b51b73fddc73a8e0fdd1dd3     \n",
            " messageText    | começar                              \n",
            " channel        | whatsapp                             \n",
            " botId          | 1567                                 \n",
            " source         | user                                 \n",
            "only showing top 1 row\n",
            "\n"
          ]
        }
      ],
      "source": [
        "df.show(1, truncate=False, vertical=True)"
      ]
    },
    {
      "cell_type": "code",
      "execution_count": 73,
      "id": "5cd2c940",
      "metadata": {
        "id": "5cd2c940"
      },
      "outputs": [],
      "source": [
        "# Creating a view that will be used in the queries\n",
        "df.createOrReplaceTempView(\"view\")\n",
        "spark.catalog.cacheTable(\"view\")"
      ]
    },
    {
      "cell_type": "code",
      "execution_count": 74,
      "id": "33ccc7a4",
      "metadata": {
        "colab": {
          "base_uri": "https://localhost:8080/"
        },
        "id": "33ccc7a4",
        "outputId": "ba3546c6-04cd-4004-9276-4012f486bd7b"
      },
      "outputs": [
        {
          "output_type": "stream",
          "name": "stdout",
          "text": [
            "+-----------------+-----+\n",
            "|          channel|total|\n",
            "+-----------------+-----+\n",
            "|        instagram|10038|\n",
            "|facebook messeger| 9955|\n",
            "|         telegram|10187|\n",
            "|         whatsapp|10044|\n",
            "|              sms| 9776|\n",
            "+-----------------+-----+\n",
            "\n"
          ]
        }
      ],
      "source": [
        "# Answering the first question\n",
        "sql_1 = \"\"\"select channel, \n",
        "           count(distinct conversationId) as total \n",
        "           from view \n",
        "           group by channel\"\"\"\n",
        "df_sql_1 = spark.sql(sql_1)\n",
        "df_sql_1.show()"
      ]
    },
    {
      "cell_type": "code",
      "execution_count": 75,
      "id": "be210679",
      "metadata": {
        "colab": {
          "base_uri": "https://localhost:8080/"
        },
        "id": "be210679",
        "outputId": "d5e10390-6c51-481f-b0ce-00336e0566ae"
      },
      "outputs": [
        {
          "output_type": "stream",
          "name": "stdout",
          "text": [
            "+----------+----+\n",
            "|      data|qtde|\n",
            "+----------+----+\n",
            "|2021-04-26| 874|\n",
            "|2021-03-08| 869|\n",
            "|2021-03-27| 868|\n",
            "|2021-03-03| 867|\n",
            "|2021-04-15| 864|\n",
            "+----------+----+\n",
            "only showing top 5 rows\n",
            "\n"
          ]
        }
      ],
      "source": [
        "# Answering the second question\n",
        "\n",
        "# Showing the top 5 dates with higher volume of conversations\n",
        "sql_2_top_5 = \"\"\"select cast(timestamp as date) data, \n",
        "                 count(distinct conversationId) qtde \n",
        "                 from view \n",
        "                 group by data \n",
        "                 order by qtde desc\"\"\"\n",
        "df_sql_2_top_5 = spark.sql(sql_2_top_5)\n",
        "df_sql_2_top_5.show(5)"
      ]
    },
    {
      "cell_type": "code",
      "execution_count": 76,
      "id": "39ca9c02",
      "metadata": {
        "colab": {
          "base_uri": "https://localhost:8080/"
        },
        "id": "39ca9c02",
        "outputId": "93ffe615-2f3a-46fb-912f-7004d1247e3b"
      },
      "outputs": [
        {
          "output_type": "stream",
          "name": "stdout",
          "text": [
            "+----------+\n",
            "|      data|\n",
            "+----------+\n",
            "|2021-04-26|\n",
            "+----------+\n",
            "\n"
          ]
        }
      ],
      "source": [
        "# And here we have the day with the highest conversation volume\n",
        "sql_2 = \"\"\"with t1 as (\n",
        "           select cast(timestamp as date) data, \n",
        "           count(distinct conversationId) as qtde \n",
        "           from view group by data\n",
        "           ) \n",
        "           select data from t1 \n",
        "           where qtde = (select max(qtde) from t1)\"\"\"\n",
        "df_sql_2 = spark.sql(sql_2)\n",
        "df_sql_2.show()"
      ]
    },
    {
      "cell_type": "code",
      "execution_count": 108,
      "id": "c600371f",
      "metadata": {
        "colab": {
          "base_uri": "https://localhost:8080/"
        },
        "id": "c600371f",
        "outputId": "fd4f1ab9-3fb4-45a8-d163-518d689efea6"
      },
      "outputs": [
        {
          "output_type": "stream",
          "name": "stdout",
          "text": [
            "+--------------------------------+------------------+--------------------+\n",
            "|userId                          |pergunta          |cidade              |\n",
            "+--------------------------------+------------------+--------------------+\n",
            "|17dfbcad57ceec09a9fcbd3674842e85|Qual a sua cidade?|macapá              |\n",
            "|bc96cb0f882cd446acfcad4791c49783|Qual a sua cidade?|teresina            |\n",
            "|ce3c2420998872a83a56a648368cad72|Qual a sua cidade?|ipatinga            |\n",
            "|44ae631e5a361d7b0527eee5b227c283|Qual a sua cidade?|Santos              |\n",
            "|6e17fda734ee734552c24b4aaf049938|Qual a sua cidade?|Maua                |\n",
            "|d86fac73037b4cd7e4ca4da3a7d1fbc0|Qual a sua cidade?|contagem            |\n",
            "|a88c9578716e23fa11893cd92a79d5f0|Qual a sua cidade?|teresina            |\n",
            "|e5a4d5acc5287ba78add44226eff3b51|Qual a sua cidade?|Carapicuiba         |\n",
            "|d9c7d10110ab80c29fa5c97b64ce4d5b|Qual a sua cidade?|Maceió              |\n",
            "|9f9107a74ef5ed82a7af117623d8e271|Qual a sua cidade?|Paulista            |\n",
            "|5fb72a891a19391b76df75df6064d3e3|Qual a sua cidade?|olinda              |\n",
            "|65b67ae698dd2e2b69de7653d2d0bc46|Qual a sua cidade?|campo grande        |\n",
            "|fb4934d826478a6c1f30aef51a00f45d|Qual a sua cidade?|sumare              |\n",
            "|c9866f7361319e58d56fd5620a4d6df7|Qual a sua cidade?|porto alegre        |\n",
            "|d6e00e4abf7f23ae0bbcb5757b312578|Qual a sua cidade?|Juiz de Fora        |\n",
            "|510b587efd0c869c1ac2d715313db5cb|Qual a sua cidade?|Campos              |\n",
            "|958b19c1d42edc8c0476fcbc4895d189|Qual a sua cidade?|paulista            |\n",
            "|1f7ce3da009e1b794417bac75878b067|Qual a sua cidade?|ribeirão prêto      |\n",
            "|2c5dca83b786b86c66e5db719a6b0bf7|Qual a sua cidade?|betim               |\n",
            "|987f886d100b66eeec87861c7f60023a|Qual a sua cidade?|Vitória da Conquista|\n",
            "+--------------------------------+------------------+--------------------+\n",
            "only showing top 20 rows\n",
            "\n"
          ]
        }
      ],
      "source": [
        "# Answering the third question\n",
        "\n",
        "# Starting for query only the question \"Qual a sua cidade ?\" and your answer\n",
        "sql_3 = \"\"\"select distinct userId, pergunta, cidade from (\n",
        "            select userId,\n",
        "            messageText as pergunta,\n",
        "            case\n",
        "            when (lead(timestamp) over (order by conversationId)) = timestamp\n",
        "            then (lead(messageText,2) over (order by conversationId))\n",
        "            else (lead(messageText) over (order by conversationId))\n",
        "            end as cidade\n",
        "            from view\n",
        "            order by conversationId, timestamp  asc\n",
        "         ) as t\n",
        "         where pergunta = 'Qual a sua cidade?'\n",
        "         \"\"\"\n",
        "df_sql_3 = spark.sql(sql_3)\n",
        "df_sql_3.show(truncate=False)"
      ]
    },
    {
      "cell_type": "markdown",
      "source": [
        "### Here we have a more complex situation and the something relevant to note. Some user answers have the same timestamp of bot questions and the data is a good way for take the answers. Since, considering a timeline, right after the question we should have a user's answer this is a good point to improve data consistency. Putting a slightly longer delay for the next bot question can be an alternative.\n",
        "\n",
        "### To work around this situation, a mechanism was placed in the query that checks if the next message has the same timestamp of the actual and jumps to the subsequent message."
      ],
      "metadata": {
        "id": "aeDPXHdDlBLO"
      },
      "id": "aeDPXHdDlBLO"
    },
    {
      "cell_type": "code",
      "execution_count": 109,
      "id": "3dd85bca",
      "metadata": {
        "colab": {
          "base_uri": "https://localhost:8080/"
        },
        "id": "3dd85bca",
        "outputId": "136d7567-d405-431c-9077-629eaafd37fe"
      },
      "outputs": [
        {
          "output_type": "execute_result",
          "data": {
            "text/plain": [
              "302"
            ]
          },
          "metadata": {},
          "execution_count": 109
        }
      ],
      "source": [
        "# Check the number of cities\n",
        "df_sql_3.select('cidade').distinct().count()"
      ]
    },
    {
      "cell_type": "code",
      "execution_count": 110,
      "id": "17447b81",
      "metadata": {
        "colab": {
          "base_uri": "https://localhost:8080/"
        },
        "id": "17447b81",
        "outputId": "0782c7d9-6407-4169-e57c-1fd796da7c8f"
      },
      "outputs": [
        {
          "output_type": "stream",
          "name": "stdout",
          "text": [
            "+--------------------------------+------------------+--------------------+\n",
            "|userId                          |pergunta          |cidade              |\n",
            "+--------------------------------+------------------+--------------------+\n",
            "|17dfbcad57ceec09a9fcbd3674842e85|Qual a sua cidade?|macapá              |\n",
            "|bc96cb0f882cd446acfcad4791c49783|Qual a sua cidade?|teresina            |\n",
            "|ce3c2420998872a83a56a648368cad72|Qual a sua cidade?|ipatinga            |\n",
            "|44ae631e5a361d7b0527eee5b227c283|Qual a sua cidade?|santos              |\n",
            "|6e17fda734ee734552c24b4aaf049938|Qual a sua cidade?|maua                |\n",
            "|d86fac73037b4cd7e4ca4da3a7d1fbc0|Qual a sua cidade?|contagem            |\n",
            "|a88c9578716e23fa11893cd92a79d5f0|Qual a sua cidade?|teresina            |\n",
            "|e5a4d5acc5287ba78add44226eff3b51|Qual a sua cidade?|carapicuiba         |\n",
            "|d9c7d10110ab80c29fa5c97b64ce4d5b|Qual a sua cidade?|maceió              |\n",
            "|9f9107a74ef5ed82a7af117623d8e271|Qual a sua cidade?|paulista            |\n",
            "|5fb72a891a19391b76df75df6064d3e3|Qual a sua cidade?|olinda              |\n",
            "|65b67ae698dd2e2b69de7653d2d0bc46|Qual a sua cidade?|campo grande        |\n",
            "|fb4934d826478a6c1f30aef51a00f45d|Qual a sua cidade?|sumare              |\n",
            "|c9866f7361319e58d56fd5620a4d6df7|Qual a sua cidade?|porto alegre        |\n",
            "|d6e00e4abf7f23ae0bbcb5757b312578|Qual a sua cidade?|juiz de fora        |\n",
            "|510b587efd0c869c1ac2d715313db5cb|Qual a sua cidade?|campos              |\n",
            "|958b19c1d42edc8c0476fcbc4895d189|Qual a sua cidade?|paulista            |\n",
            "|1f7ce3da009e1b794417bac75878b067|Qual a sua cidade?|ribeirão prêto      |\n",
            "|2c5dca83b786b86c66e5db719a6b0bf7|Qual a sua cidade?|betim               |\n",
            "|987f886d100b66eeec87861c7f60023a|Qual a sua cidade?|vitória da conquista|\n",
            "+--------------------------------+------------------+--------------------+\n",
            "only showing top 20 rows\n",
            "\n"
          ]
        }
      ],
      "source": [
        "# Lowering the letters to standardize the writing\n",
        "df_sql_3 = df_sql_3.withColumn(\"cidade\",f.lower(f.col(\"cidade\")))\n",
        "df_sql_3.show(truncate=False)"
      ]
    },
    {
      "cell_type": "code",
      "execution_count": 111,
      "id": "7e3d31ac",
      "metadata": {
        "colab": {
          "base_uri": "https://localhost:8080/"
        },
        "id": "7e3d31ac",
        "outputId": "4dbcea1f-640b-4b39-9d7c-63d34dd0777f"
      },
      "outputs": [
        {
          "output_type": "stream",
          "name": "stdout",
          "text": [
            "+--------------------------------+------------------+--------------------+\n",
            "|userId                          |pergunta          |cidade              |\n",
            "+--------------------------------+------------------+--------------------+\n",
            "|17dfbcad57ceec09a9fcbd3674842e85|Qual a sua cidade?|macapá              |\n",
            "|bc96cb0f882cd446acfcad4791c49783|Qual a sua cidade?|teresina            |\n",
            "|ce3c2420998872a83a56a648368cad72|Qual a sua cidade?|ipatinga            |\n",
            "|44ae631e5a361d7b0527eee5b227c283|Qual a sua cidade?|santos              |\n",
            "|6e17fda734ee734552c24b4aaf049938|Qual a sua cidade?|maua                |\n",
            "|d86fac73037b4cd7e4ca4da3a7d1fbc0|Qual a sua cidade?|contagem            |\n",
            "|a88c9578716e23fa11893cd92a79d5f0|Qual a sua cidade?|teresina            |\n",
            "|e5a4d5acc5287ba78add44226eff3b51|Qual a sua cidade?|carapicuiba         |\n",
            "|d9c7d10110ab80c29fa5c97b64ce4d5b|Qual a sua cidade?|maceió              |\n",
            "|9f9107a74ef5ed82a7af117623d8e271|Qual a sua cidade?|paulista            |\n",
            "|5fb72a891a19391b76df75df6064d3e3|Qual a sua cidade?|olinda              |\n",
            "|65b67ae698dd2e2b69de7653d2d0bc46|Qual a sua cidade?|campo grande        |\n",
            "|fb4934d826478a6c1f30aef51a00f45d|Qual a sua cidade?|sumare              |\n",
            "|c9866f7361319e58d56fd5620a4d6df7|Qual a sua cidade?|porto alegre        |\n",
            "|d6e00e4abf7f23ae0bbcb5757b312578|Qual a sua cidade?|juiz de fora        |\n",
            "|510b587efd0c869c1ac2d715313db5cb|Qual a sua cidade?|campos              |\n",
            "|958b19c1d42edc8c0476fcbc4895d189|Qual a sua cidade?|paulista            |\n",
            "|1f7ce3da009e1b794417bac75878b067|Qual a sua cidade?|ribeirão prêto      |\n",
            "|2c5dca83b786b86c66e5db719a6b0bf7|Qual a sua cidade?|betim               |\n",
            "|987f886d100b66eeec87861c7f60023a|Qual a sua cidade?|vitória da conquista|\n",
            "+--------------------------------+------------------+--------------------+\n",
            "only showing top 20 rows\n",
            "\n"
          ]
        }
      ],
      "source": [
        "# Remove additional spaces\n",
        "df_sql_3 = df_sql_3.withColumn(\"cidade\",f.trim(f.col(\"cidade\")))\n",
        "df_sql_3.show(truncate=False)"
      ]
    },
    {
      "cell_type": "code",
      "execution_count": 112,
      "id": "4b2d0297",
      "metadata": {
        "colab": {
          "base_uri": "https://localhost:8080/"
        },
        "id": "4b2d0297",
        "outputId": "8e270116-10d3-4804-848b-810b7561c635"
      },
      "outputs": [
        {
          "output_type": "stream",
          "name": "stdout",
          "text": [
            "+--------------------------------+------------------+--------------------+\n",
            "|userId                          |pergunta          |cidade              |\n",
            "+--------------------------------+------------------+--------------------+\n",
            "|17dfbcad57ceec09a9fcbd3674842e85|Qual a sua cidade?|macapa              |\n",
            "|bc96cb0f882cd446acfcad4791c49783|Qual a sua cidade?|teresina            |\n",
            "|ce3c2420998872a83a56a648368cad72|Qual a sua cidade?|ipatinga            |\n",
            "|44ae631e5a361d7b0527eee5b227c283|Qual a sua cidade?|santos              |\n",
            "|6e17fda734ee734552c24b4aaf049938|Qual a sua cidade?|maua                |\n",
            "|d86fac73037b4cd7e4ca4da3a7d1fbc0|Qual a sua cidade?|contagem            |\n",
            "|a88c9578716e23fa11893cd92a79d5f0|Qual a sua cidade?|teresina            |\n",
            "|e5a4d5acc5287ba78add44226eff3b51|Qual a sua cidade?|carapicuiba         |\n",
            "|d9c7d10110ab80c29fa5c97b64ce4d5b|Qual a sua cidade?|maceio              |\n",
            "|9f9107a74ef5ed82a7af117623d8e271|Qual a sua cidade?|paulista            |\n",
            "|5fb72a891a19391b76df75df6064d3e3|Qual a sua cidade?|olinda              |\n",
            "|65b67ae698dd2e2b69de7653d2d0bc46|Qual a sua cidade?|campo_grande        |\n",
            "|fb4934d826478a6c1f30aef51a00f45d|Qual a sua cidade?|sumare              |\n",
            "|c9866f7361319e58d56fd5620a4d6df7|Qual a sua cidade?|porto_alegre        |\n",
            "|d6e00e4abf7f23ae0bbcb5757b312578|Qual a sua cidade?|juiz_de_fora        |\n",
            "|510b587efd0c869c1ac2d715313db5cb|Qual a sua cidade?|campos              |\n",
            "|958b19c1d42edc8c0476fcbc4895d189|Qual a sua cidade?|paulista            |\n",
            "|1f7ce3da009e1b794417bac75878b067|Qual a sua cidade?|ribeirao_preto      |\n",
            "|2c5dca83b786b86c66e5db719a6b0bf7|Qual a sua cidade?|betim               |\n",
            "|987f886d100b66eeec87861c7f60023a|Qual a sua cidade?|vitoria_da_conquista|\n",
            "+--------------------------------+------------------+--------------------+\n",
            "only showing top 20 rows\n",
            "\n"
          ]
        }
      ],
      "source": [
        "# Mapping and changing letters with accents\n",
        "df_sql_3 = df_sql_3.withColumn('cidade', f.translate('cidade',\n",
        "                                                   'ãäáöüẞáäčďéěêíĺľňóôõŕšťúůýž ',\n",
        "                                                   'aaaousaacdeeeillnooorstuuyz_'))\n",
        "df_sql_3.show(truncate=False)"
      ]
    },
    {
      "cell_type": "code",
      "execution_count": 113,
      "id": "dd492b65",
      "metadata": {
        "colab": {
          "base_uri": "https://localhost:8080/"
        },
        "id": "dd492b65",
        "outputId": "5867db28-d3a1-4628-c6bc-20b3a9593dfe"
      },
      "outputs": [
        {
          "output_type": "execute_result",
          "data": {
            "text/plain": [
              "117"
            ]
          },
          "metadata": {},
          "execution_count": 113
        }
      ],
      "source": [
        "# Check again the number of cities\n",
        "df_sql_3.select('cidade').distinct().count()"
      ]
    },
    {
      "cell_type": "code",
      "execution_count": 114,
      "id": "3992cbb5",
      "metadata": {
        "id": "3992cbb5"
      },
      "outputs": [],
      "source": [
        "# Grouping and counting \n",
        "df_sql_3_grouped = df_sql_3.groupBy(\"cidade\").count()"
      ]
    },
    {
      "cell_type": "code",
      "execution_count": 84,
      "id": "15aea082",
      "metadata": {
        "colab": {
          "base_uri": "https://localhost:8080/"
        },
        "id": "15aea082",
        "outputId": "bf0ca9ae-afc0-4b14-8530-b408c4a7981b"
      },
      "outputs": [
        {
          "output_type": "stream",
          "name": "stdout",
          "text": [
            "+------------+-----+\n",
            "|      cidade|count|\n",
            "+------------+-----+\n",
            "|    joinvile|  524|\n",
            "|  piracicaba|  523|\n",
            "|ponta_grossa|  518|\n",
            "|    paulista|  504|\n",
            "|     barueri|  502|\n",
            "|      maceio|  501|\n",
            "|      olinda|  499|\n",
            "|   cariacica|  497|\n",
            "|     guaruja|  496|\n",
            "|        maua|  495|\n",
            "+------------+-----+\n",
            "only showing top 10 rows\n",
            "\n"
          ]
        }
      ],
      "source": [
        "# Top 10 cities with more unique users\n",
        "df_sql_3_grouped.sort(f.col('count').desc()).show(10)"
      ]
    },
    {
      "cell_type": "code",
      "source": [
        "# And finally just the city with more unique users\n",
        "df_sql_3_grouped.sort(f.col('count').desc()).show(1)"
      ],
      "metadata": {
        "colab": {
          "base_uri": "https://localhost:8080/"
        },
        "id": "bbH-9DHAoDzr",
        "outputId": "4add8190-97d0-46c3-a7eb-9f4771bf300b"
      },
      "id": "bbH-9DHAoDzr",
      "execution_count": 115,
      "outputs": [
        {
          "output_type": "stream",
          "name": "stdout",
          "text": [
            "+--------+-----+\n",
            "|  cidade|count|\n",
            "+--------+-----+\n",
            "|joinvile|  524|\n",
            "+--------+-----+\n",
            "only showing top 1 row\n",
            "\n"
          ]
        }
      ]
    },
    {
      "cell_type": "code",
      "execution_count": 85,
      "id": "533f067d",
      "metadata": {
        "scrolled": true,
        "colab": {
          "base_uri": "https://localhost:8080/"
        },
        "id": "533f067d",
        "outputId": "4aa1e46f-b78d-4dfe-e68d-3b627780b56b"
      },
      "outputs": [
        {
          "output_type": "stream",
          "name": "stdout",
          "text": [
            "-RECORD 0----------------------------------------------------\n",
            " conversationId | 000109a0-f902-4bd0-bb3e-d064e9f73244       \n",
            " userId         | 17dfbcad57ceec09a9fcbd3674842e85           \n",
            " pergunta       | Quais são seus pokemons favoritos?         \n",
            " pokemons       | pupitar, moltres, latios-mega              \n",
            "-RECORD 1----------------------------------------------------\n",
            " conversationId | 0003ad4a-810d-43ec-a73d-0c753283ec2a       \n",
            " userId         | bc96cb0f882cd446acfcad4791c49783           \n",
            " pergunta       | Quais são seus pokemons favoritos?         \n",
            " pokemons       | drednaw purrloin serperior                 \n",
            "-RECORD 2----------------------------------------------------\n",
            " conversationId | 00040e3e-a8c0-4709-a45b-90f82c8533be       \n",
            " userId         | ce3c2420998872a83a56a648368cad72           \n",
            " pergunta       | Quais são seus pokemons favoritos?         \n",
            " pokemons       | steelix, klang                             \n",
            "-RECORD 3----------------------------------------------------\n",
            " conversationId | 0006f192-ce5e-4b5a-863c-50b976d9d67f       \n",
            " userId         | 44ae631e5a361d7b0527eee5b227c283           \n",
            " pergunta       | Quais são seus pokemons favoritos?         \n",
            " pokemons       | meowstic-male, weepinbell, ninetales-alola \n",
            "-RECORD 4----------------------------------------------------\n",
            " conversationId | 0007ed28-c2a7-4487-8bb7-133092916db8       \n",
            " userId         | 6e17fda734ee734552c24b4aaf049938           \n",
            " pergunta       | Quais são seus pokemons favoritos?         \n",
            " pokemons       | gible crabominable passimian               \n",
            "only showing top 5 rows\n",
            "\n"
          ]
        }
      ],
      "source": [
        "# Answering the fourth question\n",
        "sql_4_pok = \"\"\"\n",
        "        select conversationId, userId, pergunta, pokemons--, pokemons2, pokemons3, ...\n",
        "            from (\n",
        "            select conversationId,\n",
        "            userId,\n",
        "            messageText as pergunta,\n",
        "            case\n",
        "            when (lead(timestamp) over (order by conversationId)) = timestamp\n",
        "            then (lead(messageText,2) over (order by conversationId))\n",
        "            else (lead(messageText) over (order by conversationId))\n",
        "            end as pokemons\n",
        "            --lead(messageText,2) over (order by conversationId) as pokemons2,\n",
        "            --lead(messageText,3) over (order by conversationId) as pokemons3\n",
        "            from view\n",
        "            order by conversationId, userId, timestamp  asc\n",
        "         ) as t\n",
        "         where pergunta = 'Quais são seus pokemons favoritos?'\n",
        "         \"\"\"\n",
        "df_sql_4_pok = spark.sql(sql_4_pok)\n",
        "df_sql_4_pok.show(5, truncate=False, vertical=True)"
      ]
    },
    {
      "cell_type": "markdown",
      "source": [
        "### Here we have another critical point. Here the user can answer the same question more than once, but how many more times? Does the bot wait some time before starting the next question? There is a certain randomness in this situation, making it difficult to establish a pattern for capturing this information. Here comes another point of improvement for the bot: setting the user a message limit for this question or a fixed time in which he can answer or even request that he only respond in one message. As a last suggestion, to try to be the as generalist as possible, make use of a translation table to map the pokemons in the messages, assuming that we have a finite number of them."
      ],
      "metadata": {
        "id": "QATISNtzoXA2"
      },
      "id": "QATISNtzoXA2"
    },
    {
      "cell_type": "code",
      "execution_count": 86,
      "id": "06431156",
      "metadata": {
        "colab": {
          "base_uri": "https://localhost:8080/"
        },
        "id": "06431156",
        "outputId": "2125369e-5db7-4788-f14b-c268ecd2caa3"
      },
      "outputs": [
        {
          "output_type": "stream",
          "name": "stdout",
          "text": [
            "+------------------------------------+--------------------------------+----------------------------------+-----------------------------------------------+\n",
            "|conversationId                      |userId                          |pergunta                          |pokemons                                       |\n",
            "+------------------------------------+--------------------------------+----------------------------------+-----------------------------------------------+\n",
            "|000109a0-f902-4bd0-bb3e-d064e9f73244|17dfbcad57ceec09a9fcbd3674842e85|Quais são seus pokemons favoritos?|pupitar,moltres,latios-mega                    |\n",
            "|0003ad4a-810d-43ec-a73d-0c753283ec2a|bc96cb0f882cd446acfcad4791c49783|Quais são seus pokemons favoritos?|drednaw,purrloin,serperior                     |\n",
            "|00040e3e-a8c0-4709-a45b-90f82c8533be|ce3c2420998872a83a56a648368cad72|Quais são seus pokemons favoritos?|steelix,klang                                  |\n",
            "|0006f192-ce5e-4b5a-863c-50b976d9d67f|44ae631e5a361d7b0527eee5b227c283|Quais são seus pokemons favoritos?|meowstic-male,weepinbell,ninetales-alola       |\n",
            "|0007ed28-c2a7-4487-8bb7-133092916db8|6e17fda734ee734552c24b4aaf049938|Quais são seus pokemons favoritos?|gible,crabominable,passimian                   |\n",
            "|000817c3-ef7d-4d85-b6df-d42b5677cea0|d86fac73037b4cd7e4ca4da3a7d1fbc0|Quais são seus pokemons favoritos?|eiscue-ice                                     |\n",
            "|000845e1-f37c-4d06-8988-b6ac3272c081|a88c9578716e23fa11893cd92a79d5f0|Quais são seus pokemons favoritos?|dreepy                                         |\n",
            "|0009451a-e2dd-46b3-941a-0232ff93cb64|e5a4d5acc5287ba78add44226eff3b51|Quais são seus pokemons favoritos?|terrakion,aegislash-blade,nihilego             |\n",
            "|000c07f8-3e16-4086-b154-d2ae7dbfb34c|d9c7d10110ab80c29fa5c97b64ce4d5b|Quais são seus pokemons favoritos?|magmar                                         |\n",
            "|000c22b2-12eb-43e1-abaa-6dda37f4211d|9f9107a74ef5ed82a7af117623d8e271|Quais são seus pokemons favoritos?|aegislash-blade,cloyster                       |\n",
            "|000c799f-eb9b-4fd8-b4e4-347b1f828d11|5fb72a891a19391b76df75df6064d3e3|Quais são seus pokemons favoritos?|luxio,hoopa-unbound,meloetta-pirouette         |\n",
            "|000d539e-ef34-47e4-a6a4-8096287a848f|65b67ae698dd2e2b69de7653d2d0bc46|Quais são seus pokemons favoritos?|doduo                                          |\n",
            "|000fb857-c78b-4696-9d1b-55d97c228847|fb4934d826478a6c1f30aef51a00f45d|Quais são seus pokemons favoritos?|whismur                                        |\n",
            "|00107410-923c-4b4f-9d9f-fec7fe293692|c9866f7361319e58d56fd5620a4d6df7|Quais são seus pokemons favoritos?|corvisquire                                    |\n",
            "|00126843-1680-480c-b7b0-a7e660116e60|d6e00e4abf7f23ae0bbcb5757b312578|Quais são seus pokemons favoritos?|blaziken,roserade                              |\n",
            "|00135667-d1b0-4bb0-a692-a4e82f47b54f|510b587efd0c869c1ac2d715313db5cb|Quais são seus pokemons favoritos?|seaking,pidgeot-mega,poipole                   |\n",
            "|0013fa6e-c029-4916-8f27-c84b6337ee61|958b19c1d42edc8c0476fcbc4895d189|Quais são seus pokemons favoritos?|lunatone,shuppet                               |\n",
            "|00142d4f-6705-44b2-b702-dff6dc129daf|1f7ce3da009e1b794417bac75878b067|Quais são seus pokemons favoritos?|furret                                         |\n",
            "|00158a6d-e5f0-45b8-a7ed-dcb63585c798|2c5dca83b786b86c66e5db719a6b0bf7|Quais são seus pokemons favoritos?|cinderace                                      |\n",
            "|0015bd20-06b8-414c-9f07-e06f2b6652c6|987f886d100b66eeec87861c7f60023a|Quais são seus pokemons favoritos?|boltund,vanilluxe,croagunk                     |\n",
            "|001685f0-d292-4311-bbfa-9845a2e7999a|4ea2b7a9beef8f2271f98527b0517c2b|Quais são seus pokemons favoritos?|trumbeak                                       |\n",
            "|0018720b-c246-45e8-a2df-88a9673cc852|c668311701b27f716f80d71c134f5d17|Quais são seus pokemons favoritos?|kangaskhan,blastoise-mega                      |\n",
            "|00193090-c349-409b-83c6-e3077abd9cac|86a80d99118e046190783a4d855750ee|Quais são seus pokemons favoritos?|mimikyu-busted                                 |\n",
            "|0019f1db-f5b6-4f98-a6b6-bd1132d0dfb2|edce5b84f11bc059681a77f17303026f|Quais são seus pokemons favoritos?|grapploct,woobat,feebas                        |\n",
            "|001b253c-27f6-4838-b040-d8b99f2ff65c|2b1d18dd851b227db0a0cc47d30c5cf7|Quais são seus pokemons favoritos?|masquerain,poliwrath,zygarde-50-power-construct|\n",
            "|001d1591-fa12-400f-bcf9-e2914b642b18|facabee58fea9f730295ba6965d6bbcc|Quais são seus pokemons favoritos?|lugia                                          |\n",
            "|001d37fa-c834-4048-aaa6-436c2608777a|eee74e9b71b1e8dbe052d1e6d0df4566|Quais são seus pokemons favoritos?|thundurus-therian,dodrio,cramorant-gulping     |\n",
            "|001d3ec4-d5ce-4246-accb-3287dd8cc20e|1e60eb8497ed9dbc5d23212dbc650f23|Quais são seus pokemons favoritos?|gabite,tapu-koko,prinplup                      |\n",
            "|001e0aea-005e-408f-9a17-e528ab8a2d26|76141e9c270953fb1d659a387bc96382|Quais são seus pokemons favoritos?|castform-rainy,vespiquen                       |\n",
            "|001f0760-64cf-4384-af0b-e00d7e4548be|a06aee6c573381e3ab5304c2e85dfd3e|Quais são seus pokemons favoritos?|morpeko-hangry,crustle,umbreon                 |\n",
            "|001f79df-e6e8-4383-a77f-f8aa33ce9364|46adafa1ef2caf2b12bde9dfad154194|Quais são seus pokemons favoritos?|spinda                                         |\n",
            "|001f97e7-a0cd-4f87-a7fa-9410ebf99d8a|9decffcd38afdb2c202c09509124248b|Quais são seus pokemons favoritos?|gloom                                          |\n",
            "|00206457-1013-451e-8298-95d15ee62576|1e958ac7ef3b8eaf6a2291cd82821ca5|Quais são seus pokemons favoritos?|meloetta-aria                                  |\n",
            "|00215962-e9d0-4db9-b70e-a269d52810ae|e9d7935e952343143ce103317a5deee0|Quais são seus pokemons favoritos?|rhyperior                                      |\n",
            "|002197d5-8552-44a7-bb6a-5a7c408c7e6c|2f80613184473aa15aa27608e67fd8c4|Quais são seus pokemons favoritos?|mienfoo,inkay,rhyperior                        |\n",
            "|0021ff31-212a-4fb1-819b-80b4871a986a|3323e5719bdf0280b99c3d3f71da5ae0|Quais são seus pokemons favoritos?|marshadow,tyranitar-mega                       |\n",
            "|00231866-8942-48aa-b285-44d43fe910c0|4fb0221c0b34f32789a733df5152604c|Quais são seus pokemons favoritos?|cloyster                                       |\n",
            "|00248979-1f07-4476-9542-af1a2753a11c|0af7ecae2a1a957657431e7752294eb3|Quais são seus pokemons favoritos?|cinccino                                       |\n",
            "|0026bf54-ae37-420b-a4a3-a4b57db7892c|1e1f08d0629d4dd75b59e62dcd642fd1|Quais são seus pokemons favoritos?|marshtomp,swirlix                              |\n",
            "|0026d516-9e83-4cdf-a206-3d36738c23b9|30cf259d50c80f5e8aaec393de1e638e|Quais são seus pokemons favoritos?|luvdisc,spectrier                              |\n",
            "|0027fb2f-ba82-42c4-9f0b-a6809bf56ee1|cc9ccdb3cef0d3048e58108d3943f968|Quais são seus pokemons favoritos?|dugtrio,regieleki,rhyperior                    |\n",
            "|00282077-9614-478e-869c-921b3689b937|557270956116fd6f1dca908ea1a3b717|Quais são seus pokemons favoritos?|salazzle-totem                                 |\n",
            "|002984a5-8f28-40ec-a956-a7c4e6de5172|c825866c30245db91ccc907d5042b12f|Quais são seus pokemons favoritos?|litleo,rhydon,stonjourner                      |\n",
            "|0029a58f-df71-4ef1-8089-150c849ac0a1|c8e12c68a9127b790aaeb38c9d93c064|Quais são seus pokemons favoritos?|shuppet,trapinch                               |\n",
            "|002aab41-2859-4629-9fbb-71dffa9a73fd|12c4fe01a940d9c4e9d3bd0b32cf3e5f|Quais são seus pokemons favoritos?|heatmor,nincada                                |\n",
            "|002b7441-cf67-48e6-8883-df74896618a6|d220c14dcfe5c5f824ab1b1cb9dcb48e|Quais são seus pokemons favoritos?|oshawott                                       |\n",
            "|002bd3c3-3b9b-485f-8589-39663821065d|bc3fddc7fa625af4a2af02a4ffe4bcdc|Quais são seus pokemons favoritos?|houndour,cubchoo,pyukumuku                     |\n",
            "|002c1d6b-bb74-46ac-98c7-8e0df6c148ec|e4df22691d744d634956bf1db4e51769|Quais são seus pokemons favoritos?|cramorant-gorging,moltres-galar                |\n",
            "|002c4050-7ea1-40cf-9d04-904355ac02b8|88d8519105bee021d28de1d95c6e47bd|Quais são seus pokemons favoritos?|rotom-frost                                    |\n",
            "|002c711e-1ef9-476e-885f-59ce41ecfa80|9d9d43c159f05843d5ae79c975e013d5|Quais são seus pokemons favoritos?|oranguru,luvdisc,croagunk                      |\n",
            "|002c859a-4a5f-4e81-b03d-746fdf14ebf2|30dbb6865b2d4d5ec81e36a02202eed3|Quais são seus pokemons favoritos?|gourgeist-large                                |\n",
            "|002d6036-f44c-4d51-b29a-7b4235568fda|9fa876311af639ef7ce2642d3e3db3ff|Quais são seus pokemons favoritos?|reshiram,omanyte                               |\n",
            "|002f503f-1b38-4ed7-952a-0aaac5514ee5|5b84dfa09871b79d2356232775b45104|Quais são seus pokemons favoritos?|amoonguss                                      |\n",
            "|002fba61-5db8-4021-8075-824fec8ef2b7|2ffcd17eee53e3392fac494ce11aa446|Quais são seus pokemons favoritos?|arcanine,aggron,barboach                       |\n",
            "|002fdd2d-e620-4173-b7e3-593e15377e3c|d7b8e6da555b072ca3a9d1a698e27036|Quais são seus pokemons favoritos?|morgrem                                        |\n",
            "|00310ffe-f567-4ac6-9b65-702efaa68a56|a3efdb3a79f1b189eb9dc9b57971edd5|Quais são seus pokemons favoritos?|manectric-mega,metagross-mega,dewpider         |\n",
            "|00319d44-5b24-48ea-9507-1d216abba675|d890be8b39a0473c394bd1edc84e7c79|Quais são seus pokemons favoritos?|beheeyem,gothita                               |\n",
            "|00336936-b675-4cfa-8a11-a64cb0f8f80f|7097471579e0ee4e5671f88d12be915f|Quais são seus pokemons favoritos?|tympole                                        |\n",
            "|0033735a-79d7-4e25-8609-4cdf660779b6|cae469ca410b0bd9415bf1faa0b00e7c|Quais são seus pokemons favoritos?|shelgon,chimecho,pikachu-starter               |\n",
            "|0036cd98-01d2-4b31-b9cd-8f53068e0eb7|314f70a2c72ea0c200ace6b0bcf226ec|Quais são seus pokemons favoritos?|miltank,aron,quagsire                          |\n",
            "|0038bb7f-6ea9-4a0f-a8e3-0ffe26961d35|7de48ec1d1a2dd675e6a91359f3d5aeb|Quais são seus pokemons favoritos?|floatzel                                       |\n",
            "|003c6d7c-67ba-4649-96c8-e3d37d317910|e73d09ab276618082dd74db73b36f984|Quais são seus pokemons favoritos?|froslass                                       |\n",
            "|003d8517-d197-4397-9c9c-6b6a1a9dd15e|444192833f86fb8341965f6afc631a9e|Quais são seus pokemons favoritos?|hakamo-o                                       |\n",
            "|003fbd32-4851-43d1-ab5b-945d173c5f0a|3964b8f8580262798e71da1b0a84626e|Quais são seus pokemons favoritos?|zamazenta,oddish                               |\n",
            "|00402e8c-b1d5-4e80-bc04-8bab2c1be322|a574fbbea30a0dcc086f649f99300eba|Quais são seus pokemons favoritos?|pikachu,girafarig,victini                      |\n",
            "|0040fd11-22ee-4df3-b116-54ef3a214856|d420712d927a990b33c3dcf539345225|Quais são seus pokemons favoritos?|venusaur                                       |\n",
            "|00427960-9c2e-4b61-b5dc-589c3d7d0471|52b89ad88507ffd77a2b3a5286ebbbaa|Quais são seus pokemons favoritos?|fennekin                                       |\n",
            "|004404cd-5155-4edc-9ef0-e80cbf4cc3e4|28262e989e6df8b40e185fd421f6b789|Quais são seus pokemons favoritos?|snom                                           |\n",
            "|00450f71-e7c1-41c4-8c1b-9d24bb3bbd57|55d5e9505950f3b649e8b0b749c8d813|Quais são seus pokemons favoritos?|wishiwashi-solo                                |\n",
            "|00460db3-25e7-4e8e-8b38-cf780b1b3bfc|a4c677c7f51df125551ce0048543b44c|Quais são seus pokemons favoritos?|persian-alola                                  |\n",
            "|0048002f-85d8-45b4-b771-6910b32d64e8|9a7d328a9e42ea7bdd7a5eef5f2d7a2a|Quais são seus pokemons favoritos?|darmanitan-standard,regidrago,mudkip           |\n",
            "|00485362-e6ff-4ce2-b86a-b8768af5808a|e30675f256d1a076a2eeb090f9225733|Quais são seus pokemons favoritos?|beldum                                         |\n",
            "|004ca109-83ae-4597-b9fa-c4fcc4f917eb|680a5280a794a67848245ceb135ec560|Quais são seus pokemons favoritos?|slowbro                                        |\n",
            "|004e28d0-6cb0-4152-9e24-b5e8c68eb2e9|f0d70e8afc15c18fd1e21e0e958ce73d|Quais são seus pokemons favoritos?|cosmog                                         |\n",
            "|004f0649-ce66-4a07-b1a4-efc9829c97b6|b65de619c9937bafb9afb01ba088cc32|Quais são seus pokemons favoritos?|dewpider,applin                                |\n",
            "|0050d839-fe36-409f-8663-e4a03fa92cb7|20da000e1aa06afc139b2aba068d7e5a|Quais são seus pokemons favoritos?|aron                                           |\n",
            "|00522fb7-b754-4e8b-9553-fc112bb06359|d37163df946ca056a2f1ad2eac9fdbb7|Quais são seus pokemons favoritos?|pumpkaboo-super,rowlet                         |\n",
            "|0054e818-2c65-4979-9326-24bdf86996b4|61cd0e6ce5c3be9ec88452094d91a66c|Quais são seus pokemons favoritos?|paras                                          |\n",
            "|00559709-8a33-4e9b-8621-b32a22503b8c|7468762b886ecf8b5c860769b6748839|Quais são seus pokemons favoritos?|frillish,sandshrew-alola                       |\n",
            "|0055bbeb-ae19-4e60-8f89-8c5e96f333d5|f88ca1270f81cbfe90aec3f26dcc9681|Quais são seus pokemons favoritos?|zekrom,furfrou                                 |\n",
            "|005a4fed-0bde-4f89-a0d6-df3fd15f6b84|1b95106f72dbc1641cac86525759a257|Quais são seus pokemons favoritos?|froakie                                        |\n",
            "|005a5c0c-36e0-40ab-b9f7-09f380c45d8a|c8b933599bb566fcdcc068f13771da0b|Quais são seus pokemons favoritos?|pachirisu                                      |\n",
            "|005ac751-7924-4b8f-8763-9b62aaadcabd|34de6023e6ebd4063ea51c7ce3170a18|Quais são seus pokemons favoritos?|regieleki,tangrowth,clefable                   |\n",
            "|005b08a6-38d9-4554-af2f-100c53271fa5|7ead4abfee922e5aecf562fee8f9c148|Quais são seus pokemons favoritos?|magnemite,quagsire                             |\n",
            "|005b1f96-1abe-42ca-b176-767bf4c8b93a|a4d714b88693c3cec9ac687c64f5206e|Quais são seus pokemons favoritos?|cubchoo                                        |\n",
            "|005e9d0d-2294-4e2b-b087-fcb9e1eed9ed|88e462503de478676349549628b79289|Quais são seus pokemons favoritos?|landorus-therian,tauros                        |\n",
            "|005f416d-cc9f-4683-8676-643875001222|14472c6092efb543f42bec941aa3675f|Quais são seus pokemons favoritos?|wormadam-sandy                                 |\n",
            "|0060923e-d9e2-4ab4-b318-b6f4958f1a75|99f4a87b51a2cb2d1df7b583ef5bc485|Quais são seus pokemons favoritos?|rampardos,scraggy,wishiwashi-school            |\n",
            "|00630264-8dbc-4ff4-9777-9bc974f02da6|4ae7fc1eadfd0971b0cc8006a5251c16|Quais são seus pokemons favoritos?|pinsir                                         |\n",
            "|0064e19c-1ab8-4bd5-b79c-51addb02aa46|2fd89ed25ce3f55d0fb1c211e9843897|Quais são seus pokemons favoritos?|inteleon                                       |\n",
            "|00656b9e-d6fa-4839-8163-ca7ad242c831|34fdb4c49257beca25880bf41b0e4c0f|Quais são seus pokemons favoritos?|jigglypuff                                     |\n",
            "|00678c56-11b8-4a64-bb03-1a812b4a4595|a5bcbe2bf21287ceba065fec0a0f073e|Quais são seus pokemons favoritos?|snover,zweilous,graveler-alola                 |\n",
            "|006a8e4f-601a-4fba-ad58-297064e1f92d|57e5ac95a4049518d18f0e4147183bdc|Quais são seus pokemons favoritos?|gloom,musharna,durant                          |\n",
            "|006cdb45-4d3c-436a-ac7d-ef73299db441|c751c5c7317664fc56b29f6edbd6b5f1|Quais são seus pokemons favoritos?|palossand,blitzle,zacian                       |\n",
            "|006d8fb7-b41f-47be-8da0-e742e19b13ca|b114ebca6f12f8548604850ce58ac356|Quais são seus pokemons favoritos?|wailord                                        |\n",
            "|006e3769-b632-4e13-bf7b-6070368db66a|f731e56d096f37d588869f93edc514f8|Quais são seus pokemons favoritos?|mightyena                                      |\n",
            "|006ed40e-4ecf-4f7e-ac85-e596321e3b06|ce031f8e329054ebb321d0d2fbf5ae3c|Quais são seus pokemons favoritos?|bergmite,shaymin-land,darmanitan-zen           |\n",
            "|006fe6f3-a1fd-4ee2-a4d9-8e34bed699e0|062252d179ca6c0311d667c5b747e92b|Quais são seus pokemons favoritos?|ninetales-alola                                |\n",
            "|0071f652-7b3e-4e5a-ae17-90129307c1ae|fbdf3cd5456bfbaf8be8343ca5050863|Quais são seus pokemons favoritos?|meowstic-female                                |\n",
            "|0076fe13-974d-4712-8573-974779a80cbb|1dd26d417ccf0c2f8190e7f0361f0da6|Quais são seus pokemons favoritos?|decidueye                                      |\n",
            "+------------------------------------+--------------------------------+----------------------------------+-----------------------------------------------+\n",
            "only showing top 100 rows\n",
            "\n"
          ]
        }
      ],
      "source": [
        "# Remove spaces and set comma as the separator\n",
        "df_sql_4_pok = df_sql_4_pok.withColumn(\"pokemons\",f.lower(f.col(\"pokemons\"))). \\\n",
        "                    withColumn(\"pokemons\",f.trim(f.col(\"pokemons\"))). \\\n",
        "                    withColumn('pokemons', f.translate('pokemons',',','')). \\\n",
        "                    withColumn('pokemons', f.translate('pokemons',' ',','))\n",
        "\n",
        "df_sql_4_pok.show(100, truncate=False)"
      ]
    },
    {
      "cell_type": "code",
      "execution_count": 87,
      "id": "2b403272",
      "metadata": {
        "scrolled": true,
        "colab": {
          "base_uri": "https://localhost:8080/"
        },
        "id": "2b403272",
        "outputId": "7ebd15f2-4eac-4a6f-e5a7-8fda51e1bf54"
      },
      "outputs": [
        {
          "output_type": "stream",
          "name": "stdout",
          "text": [
            "-RECORD 0----------------------------------------------\n",
            " conversationId | 000109a0-f902-4bd0-bb3e-d064e9f73244 \n",
            " pergunta       | Qual a sua idade?                    \n",
            " idade          | 43                                   \n",
            "-RECORD 1----------------------------------------------\n",
            " conversationId | 0003ad4a-810d-43ec-a73d-0c753283ec2a \n",
            " pergunta       | Qual a sua idade?                    \n",
            " idade          | 43                                   \n",
            "-RECORD 2----------------------------------------------\n",
            " conversationId | 00040e3e-a8c0-4709-a45b-90f82c8533be \n",
            " pergunta       | Qual a sua idade?                    \n",
            " idade          | 45                                   \n",
            "-RECORD 3----------------------------------------------\n",
            " conversationId | 0006f192-ce5e-4b5a-863c-50b976d9d67f \n",
            " pergunta       | Qual a sua idade?                    \n",
            " idade          | 48                                   \n",
            "-RECORD 4----------------------------------------------\n",
            " conversationId | 0007ed28-c2a7-4487-8bb7-133092916db8 \n",
            " pergunta       | Qual a sua idade?                    \n",
            " idade          | 23                                   \n",
            "only showing top 5 rows\n",
            "\n"
          ]
        }
      ],
      "source": [
        "# Get the age of the users\n",
        "sql_4_age = \"\"\"\n",
        "        select conversationId, pergunta, idade\n",
        "            from (\n",
        "            select conversationId,\n",
        "            messageText as pergunta,\n",
        "            case\n",
        "            when (lead(timestamp) over (order by conversationId)) = timestamp\n",
        "            then (lead(messageText,2) over (order by conversationId))\n",
        "            else (lead(messageText) over (order by conversationId))\n",
        "            end as idade\n",
        "            from view\n",
        "            order by conversationId, timestamp  asc\n",
        "         ) as t\n",
        "         where pergunta = 'Qual a sua idade?'\n",
        "         \"\"\"\n",
        "df_sql_4_age = spark.sql(sql_4_age)\n",
        "df_sql_4_age.show(5, truncate=False, vertical=True)"
      ]
    },
    {
      "cell_type": "code",
      "execution_count": 88,
      "id": "869cbbd9",
      "metadata": {
        "colab": {
          "base_uri": "https://localhost:8080/"
        },
        "id": "869cbbd9",
        "outputId": "5a78d4a8-a8ff-4d48-8dec-78ff4b4ff1c0"
      },
      "outputs": [
        {
          "output_type": "stream",
          "name": "stdout",
          "text": [
            "-RECORD 0--------------------------------------------------\n",
            " conversationId | 000109a0-f902-4bd0-bb3e-d064e9f73244     \n",
            " userId         | 17dfbcad57ceec09a9fcbd3674842e85         \n",
            " pergunta       | Quais são seus pokemons favoritos?       \n",
            " pokemons       | pupitar,moltres,latios-mega              \n",
            " pergunta       | Qual a sua idade?                        \n",
            " idade          | 43                                       \n",
            "-RECORD 1--------------------------------------------------\n",
            " conversationId | 0003ad4a-810d-43ec-a73d-0c753283ec2a     \n",
            " userId         | bc96cb0f882cd446acfcad4791c49783         \n",
            " pergunta       | Quais são seus pokemons favoritos?       \n",
            " pokemons       | drednaw,purrloin,serperior               \n",
            " pergunta       | Qual a sua idade?                        \n",
            " idade          | 43                                       \n",
            "-RECORD 2--------------------------------------------------\n",
            " conversationId | 00040e3e-a8c0-4709-a45b-90f82c8533be     \n",
            " userId         | ce3c2420998872a83a56a648368cad72         \n",
            " pergunta       | Quais são seus pokemons favoritos?       \n",
            " pokemons       | steelix,klang                            \n",
            " pergunta       | Qual a sua idade?                        \n",
            " idade          | 45                                       \n",
            "-RECORD 3--------------------------------------------------\n",
            " conversationId | 0006f192-ce5e-4b5a-863c-50b976d9d67f     \n",
            " userId         | 44ae631e5a361d7b0527eee5b227c283         \n",
            " pergunta       | Quais são seus pokemons favoritos?       \n",
            " pokemons       | meowstic-male,weepinbell,ninetales-alola \n",
            " pergunta       | Qual a sua idade?                        \n",
            " idade          | 48                                       \n",
            "-RECORD 4--------------------------------------------------\n",
            " conversationId | 0007ed28-c2a7-4487-8bb7-133092916db8     \n",
            " userId         | 6e17fda734ee734552c24b4aaf049938         \n",
            " pergunta       | Quais são seus pokemons favoritos?       \n",
            " pokemons       | gible,crabominable,passimian             \n",
            " pergunta       | Qual a sua idade?                        \n",
            " idade          | 23                                       \n",
            "only showing top 5 rows\n",
            "\n"
          ]
        }
      ],
      "source": [
        "# Joining dfs\n",
        "df_sql_4 = df_sql_4_pok.join(df_sql_4_age,[\"conversationId\"])\n",
        "df_sql_4.show(5, truncate=False, vertical=True)"
      ]
    },
    {
      "cell_type": "code",
      "execution_count": 89,
      "id": "aaee54df",
      "metadata": {
        "colab": {
          "base_uri": "https://localhost:8080/"
        },
        "id": "aaee54df",
        "outputId": "427eabfd-9d2c-48a7-892d-f7c7f6b06fb0"
      },
      "outputs": [
        {
          "output_type": "stream",
          "name": "stdout",
          "text": [
            "-RECORD 0----------------------------------------------\n",
            " conversationId | 000109a0-f902-4bd0-bb3e-d064e9f73244 \n",
            " userId         | 17dfbcad57ceec09a9fcbd3674842e85     \n",
            " pergunta       | Quais são seus pokemons favoritos?   \n",
            " pokemons       | pupitar                              \n",
            " pergunta       | Qual a sua idade?                    \n",
            " idade          | 43                                   \n",
            "-RECORD 1----------------------------------------------\n",
            " conversationId | 000109a0-f902-4bd0-bb3e-d064e9f73244 \n",
            " userId         | 17dfbcad57ceec09a9fcbd3674842e85     \n",
            " pergunta       | Quais são seus pokemons favoritos?   \n",
            " pokemons       | moltres                              \n",
            " pergunta       | Qual a sua idade?                    \n",
            " idade          | 43                                   \n",
            "-RECORD 2----------------------------------------------\n",
            " conversationId | 000109a0-f902-4bd0-bb3e-d064e9f73244 \n",
            " userId         | 17dfbcad57ceec09a9fcbd3674842e85     \n",
            " pergunta       | Quais são seus pokemons favoritos?   \n",
            " pokemons       | latios-mega                          \n",
            " pergunta       | Qual a sua idade?                    \n",
            " idade          | 43                                   \n",
            "-RECORD 3----------------------------------------------\n",
            " conversationId | 0003ad4a-810d-43ec-a73d-0c753283ec2a \n",
            " userId         | bc96cb0f882cd446acfcad4791c49783     \n",
            " pergunta       | Quais são seus pokemons favoritos?   \n",
            " pokemons       | drednaw                              \n",
            " pergunta       | Qual a sua idade?                    \n",
            " idade          | 43                                   \n",
            "-RECORD 4----------------------------------------------\n",
            " conversationId | 0003ad4a-810d-43ec-a73d-0c753283ec2a \n",
            " userId         | bc96cb0f882cd446acfcad4791c49783     \n",
            " pergunta       | Quais são seus pokemons favoritos?   \n",
            " pokemons       | purrloin                             \n",
            " pergunta       | Qual a sua idade?                    \n",
            " idade          | 43                                   \n",
            "only showing top 5 rows\n",
            "\n"
          ]
        }
      ],
      "source": [
        "# Exploding pokemons in single rows\n",
        "df_sql_4 = df_sql_4.withColumn('pokemons',f.explode(f.split('pokemons', ',')))\n",
        "df_sql_4.show(5, truncate=False, vertical=True)"
      ]
    },
    {
      "cell_type": "code",
      "execution_count": 90,
      "id": "4c6f5988",
      "metadata": {
        "id": "4c6f5988"
      },
      "outputs": [],
      "source": [
        "# Changing data type of age\n",
        "df_sql_4 = df_sql_4.withColumn(\"idade\",df_sql_4.idade.cast('int'))"
      ]
    },
    {
      "cell_type": "code",
      "execution_count": 91,
      "id": "6aed9195",
      "metadata": {
        "colab": {
          "base_uri": "https://localhost:8080/"
        },
        "id": "6aed9195",
        "outputId": "6b3a9d39-3cc8-4f78-f465-baeb11dc5125"
      },
      "outputs": [
        {
          "output_type": "stream",
          "name": "stdout",
          "text": [
            "-RECORD 0----------------------------------------------\n",
            " conversationId | 000109a0-f902-4bd0-bb3e-d064e9f73244 \n",
            " userId         | 17dfbcad57ceec09a9fcbd3674842e85     \n",
            " pergunta       | Quais são seus pokemons favoritos?   \n",
            " pokemons       | pupitar                              \n",
            " pergunta       | Qual a sua idade?                    \n",
            " idade          | 43                                   \n",
            " bin            | 4.0                                  \n",
            "-RECORD 1----------------------------------------------\n",
            " conversationId | 000109a0-f902-4bd0-bb3e-d064e9f73244 \n",
            " userId         | 17dfbcad57ceec09a9fcbd3674842e85     \n",
            " pergunta       | Quais são seus pokemons favoritos?   \n",
            " pokemons       | moltres                              \n",
            " pergunta       | Qual a sua idade?                    \n",
            " idade          | 43                                   \n",
            " bin            | 4.0                                  \n",
            "-RECORD 2----------------------------------------------\n",
            " conversationId | 000109a0-f902-4bd0-bb3e-d064e9f73244 \n",
            " userId         | 17dfbcad57ceec09a9fcbd3674842e85     \n",
            " pergunta       | Quais são seus pokemons favoritos?   \n",
            " pokemons       | latios-mega                          \n",
            " pergunta       | Qual a sua idade?                    \n",
            " idade          | 43                                   \n",
            " bin            | 4.0                                  \n",
            "-RECORD 3----------------------------------------------\n",
            " conversationId | 0003ad4a-810d-43ec-a73d-0c753283ec2a \n",
            " userId         | bc96cb0f882cd446acfcad4791c49783     \n",
            " pergunta       | Quais são seus pokemons favoritos?   \n",
            " pokemons       | drednaw                              \n",
            " pergunta       | Qual a sua idade?                    \n",
            " idade          | 43                                   \n",
            " bin            | 4.0                                  \n",
            "-RECORD 4----------------------------------------------\n",
            " conversationId | 0003ad4a-810d-43ec-a73d-0c753283ec2a \n",
            " userId         | bc96cb0f882cd446acfcad4791c49783     \n",
            " pergunta       | Quais são seus pokemons favoritos?   \n",
            " pokemons       | purrloin                             \n",
            " pergunta       | Qual a sua idade?                    \n",
            " idade          | 43                                   \n",
            " bin            | 4.0                                  \n",
            "only showing top 5 rows\n",
            "\n"
          ]
        }
      ],
      "source": [
        "# Creating bins for age\n",
        "bucketizer = Bucketizer(splits=[0, 10, 20, 30, 40, 50, 60, 70, 80, 90, 100], inputCol=\"idade\", outputCol=\"bin\")\n",
        "df_sql_4 = bucketizer.setHandleInvalid(\"keep\").transform(df_sql_4)\n",
        "\n",
        "df_sql_4.show(5, truncate=False, vertical=True)"
      ]
    },
    {
      "cell_type": "code",
      "execution_count": 92,
      "id": "06b5faff",
      "metadata": {
        "id": "06b5faff"
      },
      "outputs": [],
      "source": [
        "# Setting the result in a new dataframe (This df will be reused in the next questions)\n",
        "df_sql_4_result = df_sql_4.select('pokemons','bin').where(f.col('bin')==2.0).groupBy(\"pokemons\").count()"
      ]
    },
    {
      "cell_type": "code",
      "execution_count": 93,
      "id": "385637e4",
      "metadata": {
        "scrolled": false,
        "colab": {
          "base_uri": "https://localhost:8080/"
        },
        "id": "385637e4",
        "outputId": "a8d6a30f-cecb-474c-ef54-15a2d7be4440"
      },
      "outputs": [
        {
          "output_type": "stream",
          "name": "stdout",
          "text": [
            "+-----------------+-----+\n",
            "|         pokemons|count|\n",
            "+-----------------+-----+\n",
            "|          dewgong|   35|\n",
            "|    venusaur-mega|   35|\n",
            "|wishiwashi-school|   34|\n",
            "|           grotle|   34|\n",
            "|     yamask-galar|   34|\n",
            "|    slowbro-galar|   33|\n",
            "|          tympole|   33|\n",
            "|        porygon-z|   33|\n",
            "|       sandaconda|   33|\n",
            "|          florges|   33|\n",
            "+-----------------+-----+\n",
            "only showing top 10 rows\n",
            "\n"
          ]
        }
      ],
      "source": [
        "# The top 5 pokemons between 20 and 30 years old\n",
        "df_sql_4_result.sort(f.col('count').desc()).show(5)"
      ]
    },
    {
      "cell_type": "code",
      "execution_count": 94,
      "id": "ae764446",
      "metadata": {
        "colab": {
          "base_uri": "https://localhost:8080/"
        },
        "id": "ae764446",
        "outputId": "1c5268ea-08e7-42e3-f220-d9130e61c668"
      },
      "outputs": [
        {
          "output_type": "stream",
          "name": "stdout",
          "text": [
            "-RECORD 0--------------------------------------------------\n",
            " conversationId | 000109a0-f902-4bd0-bb3e-d064e9f73244     \n",
            " userId         | 17dfbcad57ceec09a9fcbd3674842e85         \n",
            " pergunta       | Quais são seus pokemons favoritos?       \n",
            " pokemons       | pupitar,moltres,latios-mega              \n",
            "-RECORD 1--------------------------------------------------\n",
            " conversationId | 0003ad4a-810d-43ec-a73d-0c753283ec2a     \n",
            " userId         | bc96cb0f882cd446acfcad4791c49783         \n",
            " pergunta       | Quais são seus pokemons favoritos?       \n",
            " pokemons       | drednaw,purrloin,serperior               \n",
            "-RECORD 2--------------------------------------------------\n",
            " conversationId | 00040e3e-a8c0-4709-a45b-90f82c8533be     \n",
            " userId         | ce3c2420998872a83a56a648368cad72         \n",
            " pergunta       | Quais são seus pokemons favoritos?       \n",
            " pokemons       | steelix,klang                            \n",
            "-RECORD 3--------------------------------------------------\n",
            " conversationId | 0006f192-ce5e-4b5a-863c-50b976d9d67f     \n",
            " userId         | 44ae631e5a361d7b0527eee5b227c283         \n",
            " pergunta       | Quais são seus pokemons favoritos?       \n",
            " pokemons       | meowstic-male,weepinbell,ninetales-alola \n",
            "-RECORD 4--------------------------------------------------\n",
            " conversationId | 0007ed28-c2a7-4487-8bb7-133092916db8     \n",
            " userId         | 6e17fda734ee734552c24b4aaf049938         \n",
            " pergunta       | Quais são seus pokemons favoritos?       \n",
            " pokemons       | gible,crabominable,passimian             \n",
            "only showing top 5 rows\n",
            "\n"
          ]
        }
      ],
      "source": [
        "# Answering the fifth question\n",
        "# Reusing df from last question (to get pokemons answers)\n",
        "df_sql_5_pok = df_sql_4_pok\n",
        "df_sql_5_pok.show(5, truncate=False, vertical=True)"
      ]
    },
    {
      "cell_type": "code",
      "execution_count": 95,
      "id": "41aa2510",
      "metadata": {
        "colab": {
          "base_uri": "https://localhost:8080/"
        },
        "id": "41aa2510",
        "outputId": "a73525c5-9d21-4216-be78-5ec430f365f7"
      },
      "outputs": [
        {
          "output_type": "stream",
          "name": "stdout",
          "text": [
            "+--------------------------------+------------------+--------+\n",
            "|userId                          |pergunta          |cidade  |\n",
            "+--------------------------------+------------------+--------+\n",
            "|7fa292156b2d6f8edd5510a28434c27a|Qual a sua cidade?|joinvile|\n",
            "|0293488653d7f84b33c2feb289a4d9c5|Qual a sua cidade?|joinvile|\n",
            "|8ff32a70afe3a1548bd78fe7f77ab1cc|Qual a sua cidade?|joinvile|\n",
            "|90c073629ef6adc9e71d53455dec6198|Qual a sua cidade?|joinvile|\n",
            "|32cfeccc3a8c69f09e66a624cba63f58|Qual a sua cidade?|joinvile|\n",
            "+--------------------------------+------------------+--------+\n",
            "only showing top 5 rows\n",
            "\n"
          ]
        }
      ],
      "source": [
        "# Reusing df from third question to get the city of joinvile (the city with highest unique users)\n",
        "df_sql_5_city = df_sql_3.where(\"cidade='joinvile'\")\n",
        "df_sql_5_city.show(5, truncate=False)"
      ]
    },
    {
      "cell_type": "code",
      "execution_count": 96,
      "id": "dc63ac21",
      "metadata": {
        "colab": {
          "base_uri": "https://localhost:8080/"
        },
        "id": "dc63ac21",
        "outputId": "6a55815e-3f79-4350-842f-30f2f66a5845"
      },
      "outputs": [
        {
          "output_type": "stream",
          "name": "stdout",
          "text": [
            "-RECORD 0----------------------------------------------\n",
            " userId         | 006d83000e0c9ebe57ba7f9fe91c55ac     \n",
            " conversationId | 76d54659-50ce-4f38-b4f2-0e9154bada8b \n",
            " pergunta       | Quais são seus pokemons favoritos?   \n",
            " pokemons       | togekiss                             \n",
            " pergunta       | Qual a sua cidade?                   \n",
            " cidade         | joinvile                             \n",
            "-RECORD 1----------------------------------------------\n",
            " userId         | 00b61716991305190cd3b23f49398957     \n",
            " conversationId | 8cd36caa-5426-4d0f-af77-91599de6b331 \n",
            " pergunta       | Quais são seus pokemons favoritos?   \n",
            " pokemons       | uxie                                 \n",
            " pergunta       | Qual a sua cidade?                   \n",
            " cidade         | joinvile                             \n",
            "-RECORD 2----------------------------------------------\n",
            " userId         | 01269853445c4fcfe06c7748c02e7b62     \n",
            " conversationId | 5961caff-6734-4872-bf9b-825eb47e5c78 \n",
            " pergunta       | Quais são seus pokemons favoritos?   \n",
            " pokemons       | dragonair                            \n",
            " pergunta       | Qual a sua cidade?                   \n",
            " cidade         | joinvile                             \n",
            "-RECORD 3----------------------------------------------\n",
            " userId         | 015572e6ea03ad7aecd12056a83300fe     \n",
            " conversationId | 70a78189-7589-4b8c-94bb-2b7bb9181c32 \n",
            " pergunta       | Quais são seus pokemons favoritos?   \n",
            " pokemons       | blipbug,simisear                     \n",
            " pergunta       | Qual a sua cidade?                   \n",
            " cidade         | joinvile                             \n",
            "-RECORD 4----------------------------------------------\n",
            " userId         | 0293488653d7f84b33c2feb289a4d9c5     \n",
            " conversationId | 015dd254-8307-4028-af62-d8ef1bf21726 \n",
            " pergunta       | Quais são seus pokemons favoritos?   \n",
            " pokemons       | slowbro,dragonite                    \n",
            " pergunta       | Qual a sua cidade?                   \n",
            " cidade         | joinvile                             \n",
            "only showing top 5 rows\n",
            "\n"
          ]
        }
      ],
      "source": [
        "# Joining dataframes\n",
        "df_sql_5 = df_sql_5_pok.join(df_sql_5_city,[\"userId\"])\n",
        "df_sql_5.show(5, truncate=False, vertical=True)"
      ]
    },
    {
      "cell_type": "code",
      "execution_count": 97,
      "id": "2ec7261c",
      "metadata": {
        "colab": {
          "base_uri": "https://localhost:8080/"
        },
        "id": "2ec7261c",
        "outputId": "d736bae1-c154-4478-acb0-99a568943c82"
      },
      "outputs": [
        {
          "output_type": "stream",
          "name": "stdout",
          "text": [
            "-RECORD 0----------------------------------------------\n",
            " userId         | 006d83000e0c9ebe57ba7f9fe91c55ac     \n",
            " conversationId | 76d54659-50ce-4f38-b4f2-0e9154bada8b \n",
            " pergunta       | Quais são seus pokemons favoritos?   \n",
            " pokemons       | togekiss                             \n",
            " pergunta       | Qual a sua cidade?                   \n",
            " cidade         | joinvile                             \n",
            "-RECORD 1----------------------------------------------\n",
            " userId         | 00b61716991305190cd3b23f49398957     \n",
            " conversationId | 8cd36caa-5426-4d0f-af77-91599de6b331 \n",
            " pergunta       | Quais são seus pokemons favoritos?   \n",
            " pokemons       | uxie                                 \n",
            " pergunta       | Qual a sua cidade?                   \n",
            " cidade         | joinvile                             \n",
            "-RECORD 2----------------------------------------------\n",
            " userId         | 01269853445c4fcfe06c7748c02e7b62     \n",
            " conversationId | 5961caff-6734-4872-bf9b-825eb47e5c78 \n",
            " pergunta       | Quais são seus pokemons favoritos?   \n",
            " pokemons       | dragonair                            \n",
            " pergunta       | Qual a sua cidade?                   \n",
            " cidade         | joinvile                             \n",
            "-RECORD 3----------------------------------------------\n",
            " userId         | 015572e6ea03ad7aecd12056a83300fe     \n",
            " conversationId | 70a78189-7589-4b8c-94bb-2b7bb9181c32 \n",
            " pergunta       | Quais são seus pokemons favoritos?   \n",
            " pokemons       | blipbug                              \n",
            " pergunta       | Qual a sua cidade?                   \n",
            " cidade         | joinvile                             \n",
            "-RECORD 4----------------------------------------------\n",
            " userId         | 015572e6ea03ad7aecd12056a83300fe     \n",
            " conversationId | 70a78189-7589-4b8c-94bb-2b7bb9181c32 \n",
            " pergunta       | Quais são seus pokemons favoritos?   \n",
            " pokemons       | simisear                             \n",
            " pergunta       | Qual a sua cidade?                   \n",
            " cidade         | joinvile                             \n",
            "only showing top 5 rows\n",
            "\n"
          ]
        }
      ],
      "source": [
        "# Exploding pokemons in single rows\n",
        "df_sql_5 = df_sql_5.withColumn('pokemons',f.explode(f.split('pokemons', ',')))\n",
        "df_sql_5.show(5, truncate=False, vertical=True)"
      ]
    },
    {
      "cell_type": "code",
      "execution_count": 98,
      "id": "7e6a50ca",
      "metadata": {
        "id": "7e6a50ca"
      },
      "outputs": [],
      "source": [
        "# Counting pokemons\n",
        "df_sql_5 = df_sql_5.select('pokemons').groupBy(\"pokemons\").count()"
      ]
    },
    {
      "cell_type": "code",
      "execution_count": 99,
      "id": "c5139e7c",
      "metadata": {
        "colab": {
          "base_uri": "https://localhost:8080/"
        },
        "id": "c5139e7c",
        "outputId": "d6912276-d212-4985-d8d0-003cc40e0dfd"
      },
      "outputs": [
        {
          "output_type": "stream",
          "name": "stdout",
          "text": [
            "+--------------------+-----+\n",
            "|            pokemons|count|\n",
            "+--------------------+-----+\n",
            "|             blipbug|    5|\n",
            "|               entei|    5|\n",
            "|           rillaboom|    4|\n",
            "|           cryogonal|    4|\n",
            "|           volcarona|    4|\n",
            "|              gligar|    4|\n",
            "|           obstagoon|    4|\n",
            "|             ninjask|    4|\n",
            "|raticate-totem-alola|    4|\n",
            "|          galvantula|    4|\n",
            "+--------------------+-----+\n",
            "only showing top 10 rows\n",
            "\n"
          ]
        }
      ],
      "source": [
        "# Showing the top 10 pokemons in the city with highest unique users (joinvile)\n",
        "df_sql_5.sort(f.col('count').desc()).show(10)"
      ]
    },
    {
      "cell_type": "code",
      "execution_count": 100,
      "id": "c6cc4b4e",
      "metadata": {
        "colab": {
          "base_uri": "https://localhost:8080/"
        },
        "id": "c6cc4b4e",
        "outputId": "3ead55d8-9f19-4ef2-d529-0681a3157bb5"
      },
      "outputs": [
        {
          "output_type": "stream",
          "name": "stdout",
          "text": [
            "-RECORD 0----------------------------------------------\n",
            " conversationId | 000109a0-f902-4bd0-bb3e-d064e9f73244 \n",
            " userId         | 17dfbcad57ceec09a9fcbd3674842e85     \n",
            " pergunta       | Quais são seus pokemons favoritos?   \n",
            " pokemons       | pupitar                              \n",
            " pergunta       | Qual a sua idade?                    \n",
            " idade          | 43                                   \n",
            " bin            | 4.0                                  \n",
            "-RECORD 1----------------------------------------------\n",
            " conversationId | 000109a0-f902-4bd0-bb3e-d064e9f73244 \n",
            " userId         | 17dfbcad57ceec09a9fcbd3674842e85     \n",
            " pergunta       | Quais são seus pokemons favoritos?   \n",
            " pokemons       | moltres                              \n",
            " pergunta       | Qual a sua idade?                    \n",
            " idade          | 43                                   \n",
            " bin            | 4.0                                  \n",
            "-RECORD 2----------------------------------------------\n",
            " conversationId | 000109a0-f902-4bd0-bb3e-d064e9f73244 \n",
            " userId         | 17dfbcad57ceec09a9fcbd3674842e85     \n",
            " pergunta       | Quais são seus pokemons favoritos?   \n",
            " pokemons       | latios-mega                          \n",
            " pergunta       | Qual a sua idade?                    \n",
            " idade          | 43                                   \n",
            " bin            | 4.0                                  \n",
            "-RECORD 3----------------------------------------------\n",
            " conversationId | 0003ad4a-810d-43ec-a73d-0c753283ec2a \n",
            " userId         | bc96cb0f882cd446acfcad4791c49783     \n",
            " pergunta       | Quais são seus pokemons favoritos?   \n",
            " pokemons       | drednaw                              \n",
            " pergunta       | Qual a sua idade?                    \n",
            " idade          | 43                                   \n",
            " bin            | 4.0                                  \n",
            "-RECORD 4----------------------------------------------\n",
            " conversationId | 0003ad4a-810d-43ec-a73d-0c753283ec2a \n",
            " userId         | bc96cb0f882cd446acfcad4791c49783     \n",
            " pergunta       | Quais são seus pokemons favoritos?   \n",
            " pokemons       | purrloin                             \n",
            " pergunta       | Qual a sua idade?                    \n",
            " idade          | 43                                   \n",
            " bin            | 4.0                                  \n",
            "only showing top 5 rows\n",
            "\n"
          ]
        }
      ],
      "source": [
        "# Answering the sixth question\n",
        "# Reusing df from fourth question (to get pokemons and age answers)\n",
        "df_sql_6_pok = df_sql_4\n",
        "df_sql_6_pok.show(5, truncate=False, vertical=True)"
      ]
    },
    {
      "cell_type": "code",
      "execution_count": 101,
      "id": "e7659665",
      "metadata": {
        "colab": {
          "base_uri": "https://localhost:8080/"
        },
        "id": "e7659665",
        "outputId": "d669ced9-9721-4c13-bce1-cc6b1a6d206f"
      },
      "outputs": [
        {
          "output_type": "stream",
          "name": "stdout",
          "text": [
            "+--------------------------------+------------------+---------+\n",
            "|userId                          |pergunta          |cidade   |\n",
            "+--------------------------------+------------------+---------+\n",
            "|314f70a2c72ea0c200ace6b0bcf226ec|Qual a sua cidade?|sao_paulo|\n",
            "|7ffd81fb498d265b874ad3734d6de4ee|Qual a sua cidade?|sao_paulo|\n",
            "|8430083012ba11acdc56660b85ffcbb6|Qual a sua cidade?|sao_paulo|\n",
            "|2616fc0048a0e600120f55fe57d35152|Qual a sua cidade?|sao_paulo|\n",
            "|2b3af2ca55c80f75412392d98feee433|Qual a sua cidade?|sao_paulo|\n",
            "+--------------------------------+------------------+---------+\n",
            "only showing top 5 rows\n",
            "\n"
          ]
        }
      ],
      "source": [
        "# Reusing df from third question to get users from sao_paulo\n",
        "df_sql_6_city = df_sql_3.where(\"cidade='sao_paulo'\")\n",
        "df_sql_6_city.show(5, truncate=False)"
      ]
    },
    {
      "cell_type": "code",
      "execution_count": 102,
      "id": "af7287cf",
      "metadata": {
        "colab": {
          "base_uri": "https://localhost:8080/"
        },
        "id": "af7287cf",
        "outputId": "23be5081-bae7-43bf-db74-ed58df491fd8"
      },
      "outputs": [
        {
          "output_type": "stream",
          "name": "stdout",
          "text": [
            "-RECORD 0----------------------------------------------\n",
            " userId         | 61dcd68f180b727297798823fb6667d9     \n",
            " conversationId | 2fbc1811-c0a0-4157-ade9-127fb73499ef \n",
            " pergunta       | Quais são seus pokemons favoritos?   \n",
            " pokemons       | minior-violet                        \n",
            " pergunta       | Qual a sua idade?                    \n",
            " idade          | 32                                   \n",
            " bin            | 3.0                                  \n",
            " pergunta       | Qual a sua cidade?                   \n",
            " cidade         | sao_paulo                            \n",
            "-RECORD 1----------------------------------------------\n",
            " userId         | 61dcd68f180b727297798823fb6667d9     \n",
            " conversationId | 2fbc1811-c0a0-4157-ade9-127fb73499ef \n",
            " pergunta       | Quais são seus pokemons favoritos?   \n",
            " pokemons       | slowking                             \n",
            " pergunta       | Qual a sua idade?                    \n",
            " idade          | 32                                   \n",
            " bin            | 3.0                                  \n",
            " pergunta       | Qual a sua cidade?                   \n",
            " cidade         | sao_paulo                            \n",
            "-RECORD 2----------------------------------------------\n",
            " userId         | 61dcd68f180b727297798823fb6667d9     \n",
            " conversationId | 2fbc1811-c0a0-4157-ade9-127fb73499ef \n",
            " pergunta       | Quais são seus pokemons favoritos?   \n",
            " pokemons       | dracozolt                            \n",
            " pergunta       | Qual a sua idade?                    \n",
            " idade          | 32                                   \n",
            " bin            | 3.0                                  \n",
            " pergunta       | Qual a sua cidade?                   \n",
            " cidade         | sao_paulo                            \n",
            "-RECORD 3----------------------------------------------\n",
            " userId         | 0e24eac058c08991282a37b0af79cd00     \n",
            " conversationId | 635e028a-d712-4ee0-aaf0-f6683c3eb6a4 \n",
            " pergunta       | Quais são seus pokemons favoritos?   \n",
            " pokemons       | cramorant                            \n",
            " pergunta       | Qual a sua idade?                    \n",
            " idade          | 47                                   \n",
            " bin            | 4.0                                  \n",
            " pergunta       | Qual a sua cidade?                   \n",
            " cidade         | sao_paulo                            \n",
            "-RECORD 4----------------------------------------------\n",
            " userId         | 8e8524d1e29a018c99927b70b328b869     \n",
            " conversationId | 8bd6e466-46ff-4649-94c9-ec7f1e6e682f \n",
            " pergunta       | Quais são seus pokemons favoritos?   \n",
            " pokemons       | spheal                               \n",
            " pergunta       | Qual a sua idade?                    \n",
            " idade          | 39                                   \n",
            " bin            | 3.0                                  \n",
            " pergunta       | Qual a sua cidade?                   \n",
            " cidade         | sao_paulo                            \n",
            "only showing top 5 rows\n",
            "\n"
          ]
        }
      ],
      "source": [
        "# Joining dataframes\n",
        "df_sql_6 = df_sql_6_pok.join(df_sql_6_city,[\"userId\"])\n",
        "df_sql_6.show(5, truncate=False, vertical=True)"
      ]
    },
    {
      "cell_type": "code",
      "execution_count": 103,
      "id": "edb4aaa3",
      "metadata": {
        "id": "edb4aaa3"
      },
      "outputs": [],
      "source": [
        "# Creating a dictionary to map age ranges\n",
        "dictionary = {0.0:\"0-9 anos\", 1.0: \"10-19 anos\", 2.0:\"20-29 anos\", 3.0: \"30-39 anos\",\n",
        "              4.0:\"40-49 anos\", 5.0: \"50-59 anos\", 6.0:\"60-69 anos\", 7.0: \"70-79 anos\",\n",
        "              8.0:\"80-89 anos\", 9.0: \"90-99 anos\"}\n",
        "udf_dict = f.udf(lambda x: dictionary[x], StringType())"
      ]
    },
    {
      "cell_type": "code",
      "execution_count": 104,
      "id": "8c9bef34",
      "metadata": {
        "scrolled": true,
        "colab": {
          "base_uri": "https://localhost:8080/"
        },
        "id": "8c9bef34",
        "outputId": "d25d081c-03bf-4761-8448-ece020ecba54"
      },
      "outputs": [
        {
          "output_type": "stream",
          "name": "stdout",
          "text": [
            "-RECORD 0----------------------------------------------\n",
            " userId         | 61dcd68f180b727297798823fb6667d9     \n",
            " conversationId | 2fbc1811-c0a0-4157-ade9-127fb73499ef \n",
            " pergunta       | Quais são seus pokemons favoritos?   \n",
            " pokemons       | minior-violet                        \n",
            " pergunta       | Qual a sua idade?                    \n",
            " idade          | 32                                   \n",
            " bin            | 3.0                                  \n",
            " pergunta       | Qual a sua cidade?                   \n",
            " cidade         | sao_paulo                            \n",
            " faixa          | 30-39 anos                           \n",
            "-RECORD 1----------------------------------------------\n",
            " userId         | 61dcd68f180b727297798823fb6667d9     \n",
            " conversationId | 2fbc1811-c0a0-4157-ade9-127fb73499ef \n",
            " pergunta       | Quais são seus pokemons favoritos?   \n",
            " pokemons       | slowking                             \n",
            " pergunta       | Qual a sua idade?                    \n",
            " idade          | 32                                   \n",
            " bin            | 3.0                                  \n",
            " pergunta       | Qual a sua cidade?                   \n",
            " cidade         | sao_paulo                            \n",
            " faixa          | 30-39 anos                           \n",
            "-RECORD 2----------------------------------------------\n",
            " userId         | 61dcd68f180b727297798823fb6667d9     \n",
            " conversationId | 2fbc1811-c0a0-4157-ade9-127fb73499ef \n",
            " pergunta       | Quais são seus pokemons favoritos?   \n",
            " pokemons       | dracozolt                            \n",
            " pergunta       | Qual a sua idade?                    \n",
            " idade          | 32                                   \n",
            " bin            | 3.0                                  \n",
            " pergunta       | Qual a sua cidade?                   \n",
            " cidade         | sao_paulo                            \n",
            " faixa          | 30-39 anos                           \n",
            "-RECORD 3----------------------------------------------\n",
            " userId         | 0e24eac058c08991282a37b0af79cd00     \n",
            " conversationId | 635e028a-d712-4ee0-aaf0-f6683c3eb6a4 \n",
            " pergunta       | Quais são seus pokemons favoritos?   \n",
            " pokemons       | cramorant                            \n",
            " pergunta       | Qual a sua idade?                    \n",
            " idade          | 47                                   \n",
            " bin            | 4.0                                  \n",
            " pergunta       | Qual a sua cidade?                   \n",
            " cidade         | sao_paulo                            \n",
            " faixa          | 40-49 anos                           \n",
            "-RECORD 4----------------------------------------------\n",
            " userId         | 8e8524d1e29a018c99927b70b328b869     \n",
            " conversationId | 8bd6e466-46ff-4649-94c9-ec7f1e6e682f \n",
            " pergunta       | Quais são seus pokemons favoritos?   \n",
            " pokemons       | spheal                               \n",
            " pergunta       | Qual a sua idade?                    \n",
            " idade          | 39                                   \n",
            " bin            | 3.0                                  \n",
            " pergunta       | Qual a sua cidade?                   \n",
            " cidade         | sao_paulo                            \n",
            " faixa          | 30-39 anos                           \n",
            "only showing top 5 rows\n",
            "\n"
          ]
        }
      ],
      "source": [
        "# Defining a result dataframe with age ranges\n",
        "df_sql_6_result = df_sql_6.withColumn(\"faixa\", udf_dict(\"bin\"))\n",
        "df_sql_6_result.show(5, truncate=False, vertical=True)"
      ]
    },
    {
      "cell_type": "code",
      "execution_count": 105,
      "id": "8c72cf0f",
      "metadata": {
        "id": "8c72cf0f"
      },
      "outputs": [],
      "source": [
        "# Grouping and counting pokemons by age group in sao_paulo city\n",
        "df_sql_6_result = df_sql_6_result.select('pokemons','faixa').groupBy(\"pokemons\", \"faixa\").count()"
      ]
    },
    {
      "cell_type": "code",
      "execution_count": 106,
      "id": "a0521bd8",
      "metadata": {
        "colab": {
          "base_uri": "https://localhost:8080/"
        },
        "id": "a0521bd8",
        "outputId": "78d71489-52ae-4fc8-a90f-e8f9cd24cb5a"
      },
      "outputs": [
        {
          "output_type": "stream",
          "name": "stdout",
          "text": [
            "+-------------+----------+-----+\n",
            "|     pokemons|     faixa|count|\n",
            "+-------------+----------+-----+\n",
            "|    bounsweet|30-39 anos|    3|\n",
            "|       mothim|40-49 anos|    3|\n",
            "|   incineroar|20-29 anos|    2|\n",
            "|      linoone|40-49 anos|    2|\n",
            "|     deerling|20-29 anos|    2|\n",
            "|deoxys-attack|20-29 anos|    2|\n",
            "| kyurem-white|20-29 anos|    2|\n",
            "|   aromatisse|30-39 anos|    2|\n",
            "|      metapod|50-59 anos|    2|\n",
            "|    exeggcute|30-39 anos|    2|\n",
            "+-------------+----------+-----+\n",
            "only showing top 10 rows\n",
            "\n"
          ]
        }
      ],
      "source": [
        "# Showing the top 10\n",
        "df_sql_6_result.sort(f.col('count').desc()).show(10)"
      ]
    },
    {
      "cell_type": "code",
      "execution_count": 107,
      "id": "c216b576",
      "metadata": {
        "colab": {
          "base_uri": "https://localhost:8080/"
        },
        "id": "c216b576",
        "outputId": "6cc24571-adbe-4f60-c5bf-d7417dee6ad2"
      },
      "outputs": [
        {
          "output_type": "stream",
          "name": "stdout",
          "text": [
            "Tempo de processsamento: 0:02:06.754616\n"
          ]
        }
      ],
      "source": [
        "END_TIME = time.monotonic()\n",
        "print(f\"Tempo de processsamento: {timedelta(seconds=END_TIME - START_TIME)}\")"
      ]
    }
  ],
  "metadata": {
    "kernelspec": {
      "display_name": "Python 3 (ipykernel)",
      "language": "python",
      "name": "python3"
    },
    "language_info": {
      "codemirror_mode": {
        "name": "ipython",
        "version": 3
      },
      "file_extension": ".py",
      "mimetype": "text/x-python",
      "name": "python",
      "nbconvert_exporter": "python",
      "pygments_lexer": "ipython3",
      "version": "3.9.6"
    },
    "colab": {
      "provenance": []
    }
  },
  "nbformat": 4,
  "nbformat_minor": 5
}